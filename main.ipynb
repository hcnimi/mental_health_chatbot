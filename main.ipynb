{
 "cells": [
  {
   "cell_type": "markdown",
   "metadata": {},
   "source": [
    "# Mental Health Chatbot"
   ]
  },
  {
   "cell_type": "markdown",
   "metadata": {},
   "source": [
    "## Goal\n"
   ]
  },
  {
   "cell_type": "markdown",
   "metadata": {},
   "source": [
    "## Imports"
   ]
  },
  {
   "cell_type": "code",
   "execution_count": 36,
   "metadata": {},
   "outputs": [],
   "source": [
    "import numpy as np\n",
    "import pandas as pd\n",
    "import matplotlib.pyplot as plt\n",
    "import matplotlib.dates as mdates\n",
    "import matplotlib.ticker as ticker\n",
    "import datetime\n",
    "import sys\n",
    "import os\n",
    "import wandb\n",
    "import gradio as gr\n",
    "import psycopg2\n",
    "from dotenv import load_dotenv\n",
    "from datasets import load_dataset, concatenate_datasets\n",
    "load_dotenv()\n",
    "NEON_PG_CONNECTION_URL = os.environ['NEON_PG_CONNECTION_URL']"
   ]
  },
  {
   "cell_type": "markdown",
   "metadata": {},
   "source": [
    "## DB, Wandb Connection & Setup"
   ]
  },
  {
   "cell_type": "code",
   "execution_count": 57,
   "metadata": {},
   "outputs": [
    {
     "name": "stdout",
     "output_type": "stream",
     "text": [
      "Connected to Neon Postgres!\n"
     ]
    }
   ],
   "source": [
    "try:\n",
    "    connection = psycopg2.connect(NEON_PG_CONNECTION_URL)\n",
    "    connection.autocommit = True\n",
    "    print(\"Connected to Neon Postgres!\")\n",
    "except Exception as e:\n",
    "    print(\"Cannot connect to Neon Postgres:\", e)\n",
    "\n",
    "cursor = connection.cursor()\n",
    "\n",
    "# wandb.init(project=\"mental_health_chatbot\")"
   ]
  },
  {
   "cell_type": "markdown",
   "metadata": {},
   "source": [
    "## Data Pre-Processing"
   ]
  },
  {
   "cell_type": "code",
   "execution_count": 58,
   "metadata": {},
   "outputs": [
    {
     "name": "stdout",
     "output_type": "stream",
     "text": [
      "                                            Question  \\\n",
      "0  I'm going through some things with my feelings...   \n",
      "1  I'm going through some things with my feelings...   \n",
      "2  I'm going through some things with my feelings...   \n",
      "3  I'm going through some things with my feelings...   \n",
      "4  I'm going through some things with my feelings...   \n",
      "\n",
      "                                              Answer  \n",
      "0  If everyone thinks you're worthless, then mayb...  \n",
      "1  Hello, and thank you for your question and see...  \n",
      "2  First thing I'd suggest is getting the sleep y...  \n",
      "3  Therapy is essential for those that are feelin...  \n",
      "4  I first want to let you know that you are not ...  \n",
      "Dropped table mental_health_qa.\n",
      "Created table mental_heatlh_qa.\n"
     ]
    }
   ],
   "source": [
    "# Load the dataframes\n",
    "df1 = pd.read_json(\"hf://datasets/Amod/mental_health_counseling_conversations/combined_dataset.json\", lines=True)\n",
    "df2 = pd.read_parquet(\"hf://datasets/mpingale/mental-health-chat-dataset/data/train-00000-of-00001-991edb316b3098d3.parquet\")\n",
    "\n",
    "# Change column name \"Context\" to \"Question\" and \"Response\" to \"Answer\"\n",
    "df1 = df1.rename(columns={\"Context\": \"Question\", \"Response\": \"Answer\"})\n",
    "# Remove the \"questionID\" column from df2\n",
    "df2 = df2.rename(columns={\"questionText\": \"Question\", \"answerText\": \"Answer\"})\n",
    "df2 = df2.drop(columns=[\"questionID\", \"questionTitle\", \"questionLink\", \"therapistInfo\", \"topic\", \"therapistURL\", \"upvotes\", \"views\", \"text\"])\n",
    "\n",
    "# combine the two dataframes and add an index column\n",
    "df = pd.concat([df1, df2], ignore_index=True)\n",
    "\n",
    "# Print the first 5 rows of the dataframe\n",
    "print(df.head())\n",
    "\n",
    "try:\n",
    "    cursor.execute(\"\"\"DROP TABLE IF EXISTS mental_health_qa;\"\"\")\n",
    "    print(\"Dropped table mental_health_qa.\")\n",
    "except Exception as e:\n",
    "    print(\"Cannot drop table mental_health_qa:\", e)\n",
    "\n",
    "try:\n",
    "    cursor.execute(\n",
    "        \"\"\"\n",
    "        CREATE TABLE mental_health_qa (\n",
    "            id BIGSERIAL PRIMARY KEY,\n",
    "            question TEXT,\n",
    "            answer TEXT,\n",
    "            vector VECTOR(384)\n",
    "        );\n",
    "    \"\"\"\n",
    "    )\n",
    "    print(\"Created table mental_heatlh_qa.\")\n",
    "except Exception as e:\n",
    "    print(\"Cannot create table mental_health_qa:\", e)\n"
   ]
  },
  {
   "cell_type": "code",
   "execution_count": null,
   "metadata": {},
   "outputs": [],
   "source": []
  }
 ],
 "metadata": {
  "kernelspec": {
   "display_name": "Python 3",
   "language": "python",
   "name": "python3"
  },
  "language_info": {
   "codemirror_mode": {
    "name": "ipython",
    "version": 3
   },
   "file_extension": ".py",
   "mimetype": "text/x-python",
   "name": "python",
   "nbconvert_exporter": "python",
   "pygments_lexer": "ipython3",
   "version": "3.11.9"
  }
 },
 "nbformat": 4,
 "nbformat_minor": 2
}
