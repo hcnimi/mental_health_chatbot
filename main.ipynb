{
 "cells": [
  {
   "cell_type": "markdown",
   "metadata": {},
   "source": [
    "# Mental Health Chatbot"
   ]
  },
  {
   "cell_type": "markdown",
   "metadata": {},
   "source": [
    "## Goal\n"
   ]
  },
  {
   "cell_type": "markdown",
   "metadata": {},
   "source": [
    "## RAG"
   ]
  },
  {
   "cell_type": "markdown",
   "metadata": {},
   "source": [
    "### Imports"
   ]
  },
  {
   "cell_type": "code",
   "execution_count": null,
   "metadata": {},
   "outputs": [],
   "source": [
    "import numpy as np\n",
    "import pandas as pd\n",
    "import matplotlib.pyplot as plt\n",
    "import matplotlib.dates as mdates\n",
    "import matplotlib.ticker as ticker\n",
    "import os\n",
    "import sys\n",
    "print(sys.executable)\n",
    "import wandb\n",
    "import gradio as gr\n",
    "import psycopg2\n",
    "from dotenv import load_dotenv\n",
    "from datasets import load_dataset\n",
    "from sentence_transformers import SentenceTransformer\n",
    "from datasets import load_dataset\n",
    "from rank_bm25 import BM25Okapi\n",
    "from openai import OpenAI\n",
    "load_dotenv()\n",
    "NEON_PG_CONNECTION_URL = os.environ['NEON_PG_CONNECTION_URL']"
   ]
  },
  {
   "cell_type": "markdown",
   "metadata": {},
   "source": [
    "### Data Pre-Processing & Insert to DB"
   ]
  },
  {
   "cell_type": "code",
   "execution_count": null,
   "metadata": {},
   "outputs": [],
   "source": [
    "def preprocess_data():\n",
    "    ds1 = load_dataset(\"Amod/mental_health_counseling_conversations\")\n",
    "    ds2 = load_dataset(\"mpingale/mental-health-chat-dataset\")\n",
    "\n",
    "    # Rename columns \"Context\": \"Question\", \"Response\": \"Answer\" of ds1\n",
    "    ds1 = ds1.rename_column(\"Context\", \"Question\")\n",
    "    ds1 = ds1.rename_column(\"Response\", \"Answer\")\n",
    "    ds2 = ds2.remove_columns([\"questionID\", \"questionTitle\", \"questionLink\", \"topic\", \"therapistInfo\", \"therapistURL\", \"upvotes\", \"views\", \"text\"])\n",
    "    ds2 = ds2.rename_column(\"questionText\", \"Question\")\n",
    "    ds2 = ds2.rename_column(\"answerText\", \"Answer\")\n",
    "\n",
    "    # Convert to pandas DataFrame\n",
    "    df1 = ds1['train'].to_pandas()\n",
    "    df2 = ds2['train'].to_pandas()\n",
    "\n",
    "    # Drop duplicates & NAs\n",
    "    df1 = df1.drop_duplicates(subset=[\"Question\", \"Answer\"]).dropna(subset=[\"Question\", \"Answer\"])\n",
    "    df2 = df2.drop_duplicates(subset=[\"Question\", \"Answer\"]).dropna(subset=[\"Question\", \"Answer\"])\n",
    "\n",
    "    # Combine datasets\n",
    "    combined_df = pd.concat([df1, df2])\n",
    "\n",
    "    questions = combined_df['Question'].tolist()\n",
    "    answers = combined_df['Answer'].tolist()\n",
    "\n",
    "    return questions, answers\n",
    "\n",
    "# Connect to the database\n",
    "try:\n",
    "    connection = psycopg2.connect(NEON_PG_CONNECTION_URL)\n",
    "    connection.autocommit = True\n",
    "    print(\"Connected to Neon Postgres!\")\n",
    "except Exception as e:\n",
    "    print(\"Cannot connect to Neon Postgres:\", e)\n",
    "\n",
    "cursor = connection.cursor()\n",
    "\n",
    "questions, answers = preprocess_data()\n",
    "# Vectorization\n",
    "model = SentenceTransformer('sentence-transformers/all-MiniLM-L6-v2')\n",
    "question_vectors = model.encode(questions)\n",
    "cursor.execute(\"\"\"\n",
    "    CREATE TABLE IF NOT EXISTS mental_health_qa (\n",
    "        id SERIAL PRIMARY KEY,\n",
    "        question TEXT,\n",
    "        answer TEXT,\n",
    "        vector FLOAT8[]\n",
    "    )\n",
    "\"\"\")\n",
    "\n",
    "# Insert the data into the database\n",
    "for i in range(len(questions)):\n",
    "    cursor.execute(\"\"\"\n",
    "        INSERT INTO mental_health_qa (question, answer, vector)\n",
    "        VALUES (%s, %s, %s)\n",
    "    \"\"\", (questions[i], answers[i], question_vectors[i].tolist()))\n",
    "connection.close()"
   ]
  },
  {
   "cell_type": "markdown",
   "metadata": {},
   "source": [
    "### Retrieval Model"
   ]
  },
  {
   "cell_type": "code",
   "execution_count": null,
   "metadata": {},
   "outputs": [],
   "source": [
    "# Function to query the database and augment responses\n",
    "def query_and_augment(user_query):\n",
    "    # Connect to the database\n",
    "    connection = psycopg2.connect(NEON_PG_CONNECTION_URL)\n",
    "    cursor = connection.cursor()\n",
    "\n",
    "    cursor.execute(\"SELECT question, answer FROM mental_health_qa\")\n",
    "    records = cursor.fetchall()\n",
    "\n",
    "    questions = [record[0] for record in records]\n",
    "    answers = [record[1] for record in records]\n",
    "\n",
    "    # Close the connection\n",
    "    connection.close()\n",
    "    \n",
    "    # Implement BM25 to find the best match\n",
    "    tokenized_questions = [q.split() for q in questions]\n",
    "    bm25 = BM25Okapi(tokenized_questions)\n",
    "    best_match_index = bm25.get_top_n(user_query.split(), questions, n=1)[0]\n",
    "    # print the top 5 matches\n",
    "    print(bm25.get_top_n(user_query.split(), questions, n=5))\n",
    "    best_answer = answers[questions.index(best_match_index)]\n",
    "\n",
    "    # Generate augmented answer using the pipeline\n",
    "    # prompt = f\"User: {user_query}\\n\\n\\nLimit your knowledge to these related questions only:\\n\\nBot: {best_answer}\\nBot (improved):\"\n",
    "    prompt = f\"User: {user_query}\\n\\n\\nImprove the response from the database:\\n\\nBot: {best_answer}\\nBot (improved):\"\n",
    "    print(f\"Prompt: {prompt}\")\n",
    "    client = OpenAI(api_key=os.environ['OPENAI_API_KEY'])\n",
    "    response = client.chat.completions.create(\n",
    "        messages=[\n",
    "            {\"role\": \"user\", \"content\": \"Answer the user_query based on the best answer.\\n\\n\" + prompt},\n",
    "            {\"role\": \"assistant\", \"content\": best_answer}\n",
    "        ],\n",
    "        model=\"gpt-4o\",\n",
    "        temperature=0.1,\n",
    "    )\n",
    "    return response.choices[0].message.content\n",
    "\n",
    "# answer = query_and_augment(\"My grandson's step-mother sends him to school with a pink Barbie backpack as a form of punishment.\")\n",
    "answer = query_and_augment(\"I'm feeling depressed\")\n",
    "print(answer)\n",
    "# Define Gradio Interface\n",
    "# def chatbot_interface(user_query):\n",
    "#     return query_and_augment(user_query)\n",
    "\n",
    "# interface = gr.Interface(fn=chatbot_interface, inputs=\"text\", outputs=\"text\", title=\"Mental Health Chatbot\")\n",
    "# interface.launch()"
   ]
  },
  {
   "cell_type": "markdown",
   "metadata": {},
   "source": [
    "# Fine-tuning Approach - without Emotion"
   ]
  },
  {
   "cell_type": "code",
   "execution_count": 21,
   "metadata": {},
   "outputs": [],
   "source": [
    "import torch\n",
    "from transformers import GPT2Tokenizer, GPT2LMHeadModel, Trainer, TrainingArguments\n",
    "from datasets import load_dataset, DatasetDict, load_metric\n",
    "import json\n",
    "import matplotlib.pyplot as plt\n",
    "import gradio as gr"
   ]
  },
  {
   "cell_type": "markdown",
   "metadata": {},
   "source": [
    "### Data Preparation & Model Setup"
   ]
  },
  {
   "cell_type": "code",
   "execution_count": 15,
   "metadata": {},
   "outputs": [
    {
     "name": "stderr",
     "output_type": "stream",
     "text": [
      "/Users/hubert_1/.local/share/virtualenvs/mental_health_chatbot-vOkgE1F_/lib/python3.11/site-packages/transformers/tokenization_utils_base.py:1601: FutureWarning: `clean_up_tokenization_spaces` was not set. It will be set to `True` by default. This behavior will be depracted in transformers v4.45, and will be then set to `False` by default. For more details check this issue: https://github.com/huggingface/transformers/issues/31884\n",
      "  warnings.warn(\n"
     ]
    },
    {
     "name": "stdout",
     "output_type": "stream",
     "text": [
      "Number of conversations: 10000\n",
      "Length of the longest conversation: 472 tokens\n",
      "Longest conversation: [\n",
      "    {\n",
      "        \"content\": \"Life can be really not a happy place.\",\n",
      "        \"role\": \"user\"\n",
      "    },\n",
      "    {\n",
      "        \"content\": \"Sadly, I agree with you.  As I get older, it seems like that more and more.  What happened that made you feel that way?\",\n",
      "        \"role\": \"assistant\"\n",
      "    },\n",
      "    {\n",
      "        \"content\": \"Oh so many things. Lots of trauma. Life really is just full of lots of really difficult events..trying to maintain your spirit and being a good person through it, is really the task of life!\",\n",
      "        \"role\": \"user\"\n",
      "    },\n",
      "    {\n",
      "        \"content\": \"Its so true! I battle chronic illness and excruciating pain daily for almost 14 years now not to mention drowning in old medical bills.  I put my faith in God and pray for relief.  Its really hard to stay optimistic.  I really hope life improves for you and you can enjoy and embrace life again.  \",\n",
      "        \"role\": \"assistant\"\n",
      "    },\n",
      "    {\n",
      "        \"content\": \"Thank you! I have tried..it's been a VERY traumatic year in so many ways..and I didn't think it could get any worse a few years ago..Wrong! I hear you with pain! Please try every treatment you can. DIET plays a HUGE role- also chiropractor, Nuerofeedback, Different herbs! I found eating right, exercising, herbs, vitamins, organic food helped with my pain caused by doctors- I had tons of neuropathy, pain and fibro like symptoms in addition to the trauma of deaths, abuse etc. I hope YOU feel better and YOU inspire me right now that I don't have it so bad!!!\",\n",
      "        \"role\": \"user\"\n",
      "    },\n",
      "    {\n",
      "        \"content\": \"That is exactly what I've been going through along with horrible doctors that did nothing for me.  I just went high nutrient vegan 3 months ago and am improving my leaps and bounds.  I follow Dr. Joel Furhman.  You can keep going and your journey is giving you compassion for others that are going through horrible things.  Take heart and I hope you feel better.  \",\n",
      "        \"role\": \"assistant\"\n",
      "    },\n",
      "    {\n",
      "        \"content\": \"THANK YOU! That sounds GREAT! yes the raw groups on FB have good diets too! I need to do vegan as well! Just can't afford it yet. Doing Fasting with Keto WOW- That is true! I just feel tapped out after so much abuse and trauma..and losing pets and children..Just too much trauma in a short time, but I am still here! I am trying to get better, it's just a long hard journey. LOVE to you! Stay strong and kind like you are! So inspiring!\",\n",
      "        \"role\": \"user\"\n",
      "    }\n",
      "]\n"
     ]
    },
    {
     "data": {
      "application/vnd.jupyter.widget-view+json": {
       "model_id": "4c0980865e0d483dbacc13ee25d48db1",
       "version_major": 2,
       "version_minor": 0
      },
      "text/plain": [
       "Map:   0%|          | 0/10000 [00:00<?, ? examples/s]"
      ]
     },
     "metadata": {},
     "output_type": "display_data"
    }
   ],
   "source": [
    "# Load Dataset\n",
    "dataset = load_dataset('Estwld/empathetic_dialogues_llm')\n",
    "dataset = dataset['train'].select(range(10000))\n",
    "\n",
    "# Explore the data\n",
    "def explore_data(dataset, tokenizer):\n",
    "    num_conversations = len(dataset)\n",
    "    max_length = 0\n",
    "    longest_conversation = None\n",
    "\n",
    "    for example in dataset:\n",
    "        conversations = example['conversations']\n",
    "        inputs = [turn['content'] for turn in conversations]\n",
    "        tokenized_inputs = tokenizer(inputs, padding=False, truncation=False)\n",
    "        total_length = sum(len(tokens) for tokens in tokenized_inputs['input_ids'])\n",
    "        if total_length > max_length:\n",
    "            max_length = total_length\n",
    "            longest_conversation = conversations\n",
    "\n",
    "    print(f\"Number of conversations: {num_conversations}\")\n",
    "    print(f\"Length of the longest conversation: {max_length} tokens\")\n",
    "    print(\"Longest conversation:\", json.dumps(longest_conversation, indent=4))\n",
    "\n",
    "# Initialize tokenizer\n",
    "tokenizer = GPT2Tokenizer.from_pretrained('openai-community/gpt2')\n",
    "tokenizer.add_special_tokens({'additional_special_tokens': ['<USER>', '<ASSISTANT>', '<PAD>']})\n",
    "tokenizer.pad_token = '<PAD>'\n",
    "\n",
    "# Explore data with token length\n",
    "explore_data(dataset, tokenizer)\n",
    "\n",
    "# Preprocess Data\n",
    "model = GPT2LMHeadModel.from_pretrained('openai-community/gpt2')\n",
    "model.resize_token_embeddings(len(tokenizer))\n",
    "\n",
    "# Tokenize. Identify the role of the speaker. Append the role and the emotion to the beginning\n",
    "# of each conversation.\n",
    "def preprocess_function(examples):\n",
    "    inputs = []\n",
    "    labels = []\n",
    "    for i in range(len(examples['conversations'])):\n",
    "        conversations = examples['conversations'][i]\n",
    "        emotion = examples['emotion'][i]\n",
    "        for turn in conversations:\n",
    "            role = '<USER>' if turn['role'] == 'user' else '<ASSISTANT>'\n",
    "            input_text = f\"<{emotion.upper()}> {role} {turn['content']}\"\n",
    "            inputs.append(input_text)\n",
    "            labels.append(input_text)  # Use the same text as labels for language modeling\n",
    "    tokenized_inputs = tokenizer(inputs, padding='max_length', truncation=True, max_length=512)\n",
    "    tokenized_inputs['labels'] = tokenized_inputs['input_ids'].copy()  # Set labels\n",
    "    return tokenized_inputs\n",
    "\n",
    "tokenized_datasets = dataset.map(preprocess_function, batched=True, remove_columns=dataset.column_names)\n",
    "\n",
    "# Split the dataset into training and validation sets\n",
    "train_size = int(0.8 * len(tokenized_datasets))\n",
    "val_size = len(tokenized_datasets) - train_size\n",
    "train_dataset, val_dataset = torch.utils.data.random_split(tokenized_datasets, [train_size, val_size])\n",
    "\n",
    "# Fine-Tune GPT-2\n",
    "training_args = TrainingArguments(\n",
    "    output_dir='./results',\n",
    "    per_device_train_batch_size=8,\n",
    "    per_device_eval_batch_size=8,\n",
    "    num_train_epochs=1,\n",
    "    eval_strategy='epoch',\n",
    "    save_strategy='epoch',\n",
    "    logging_dir='./logs',\n",
    "    learning_rate=5e-5,\n",
    "    report_to='wandb',\n",
    "    run_name='gpt2-finetuning'\n",
    ")\n",
    "\n",
    "trainer = Trainer(\n",
    "    model=model,\n",
    "    args=training_args,\n",
    "    train_dataset=train_dataset,\n",
    "    eval_dataset=val_dataset,\n",
    ")"
   ]
  },
  {
   "cell_type": "code",
   "execution_count": 30,
   "metadata": {},
   "outputs": [
    {
     "name": "stdout",
     "output_type": "stream",
     "text": [
      "110\n"
     ]
    }
   ],
   "source": [
    "from transformers import GPT2Tokenizer\n",
    "\n",
    "# Initialize the tokenizer\n",
    "tokenizer = GPT2Tokenizer.from_pretrained(\"gpt2\")\n",
    "\n",
    "# Text to count tokens for\n",
    "text = \"THANK YOU! That sounds GREAT! yes the raw groups on FB have good diets too! I need to do vegan as well! Just can't afford it yet. Doing Fasting with Keto WOW- That is true! I just feel tapped out after so much abuse and trauma..and losing pets and children..Just too much trauma in a short time, but I am still here! I am trying to get better, it's just a long hard journey. LOVE to you! Stay strong and kind like you are! So inspiring!\"\n",
    "\n",
    "# Count the number of tokens\n",
    "num_tokens = len(tokenizer.encode(text))\n",
    "print(num_tokens)"
   ]
  },
  {
   "cell_type": "markdown",
   "metadata": {},
   "source": [
    "### Training & Evaluation"
   ]
  },
  {
   "cell_type": "code",
   "execution_count": 17,
   "metadata": {},
   "outputs": [
    {
     "data": {
      "application/vnd.jupyter.widget-view+json": {
       "model_id": "c26f284428e043afb9c819c50ed9500d",
       "version_major": 2,
       "version_minor": 0
      },
      "text/plain": [
       "  0%|          | 0/4288 [00:00<?, ?it/s]"
      ]
     },
     "metadata": {},
     "output_type": "display_data"
    },
    {
     "name": "stdout",
     "output_type": "stream",
     "text": [
      "{'loss': 0.1204, 'grad_norm': 0.20129862427711487, 'learning_rate': 4.416977611940299e-05, 'epoch': 0.12}\n",
      "{'loss': 0.1245, 'grad_norm': 0.18215014040470123, 'learning_rate': 3.833955223880597e-05, 'epoch': 0.23}\n",
      "{'loss': 0.1212, 'grad_norm': 0.13758499920368195, 'learning_rate': 3.250932835820896e-05, 'epoch': 0.35}\n",
      "{'loss': 0.1191, 'grad_norm': 0.1824861615896225, 'learning_rate': 2.6679104477611942e-05, 'epoch': 0.47}\n",
      "{'loss': 0.1186, 'grad_norm': 0.13692069053649902, 'learning_rate': 2.084888059701493e-05, 'epoch': 0.58}\n",
      "{'loss': 0.1177, 'grad_norm': 0.1363353580236435, 'learning_rate': 1.501865671641791e-05, 'epoch': 0.7}\n",
      "{'loss': 0.1159, 'grad_norm': 0.12549316883087158, 'learning_rate': 9.188432835820895e-06, 'epoch': 0.82}\n",
      "{'loss': 0.1172, 'grad_norm': 0.1320410966873169, 'learning_rate': 3.358208955223881e-06, 'epoch': 0.93}\n"
     ]
    },
    {
     "data": {
      "application/vnd.jupyter.widget-view+json": {
       "model_id": "c748c01d62534f139e98b26dcb575689",
       "version_major": 2,
       "version_minor": 0
      },
      "text/plain": [
       "  0%|          | 0/1072 [00:00<?, ?it/s]"
      ]
     },
     "metadata": {},
     "output_type": "display_data"
    },
    {
     "name": "stdout",
     "output_type": "stream",
     "text": [
      "{'eval_loss': 0.11245960742235184, 'eval_runtime': 229.7416, 'eval_samples_per_second': 37.329, 'eval_steps_per_second': 4.666, 'epoch': 1.0}\n",
      "{'train_runtime': 3095.1183, 'train_samples_per_second': 11.082, 'train_steps_per_second': 1.385, 'train_loss': 0.11912327737950568, 'epoch': 1.0}\n"
     ]
    },
    {
     "data": {
      "application/vnd.jupyter.widget-view+json": {
       "model_id": "49c2077144ff4fe18f66001587f64323",
       "version_major": 2,
       "version_minor": 0
      },
      "text/plain": [
       "  0%|          | 0/1072 [00:00<?, ?it/s]"
      ]
     },
     "metadata": {},
     "output_type": "display_data"
    },
    {
     "ename": "NameError",
     "evalue": "name 'plt' is not defined",
     "output_type": "error",
     "traceback": [
      "\u001b[0;31m---------------------------------------------------------------------------\u001b[0m",
      "\u001b[0;31mNameError\u001b[0m                                 Traceback (most recent call last)",
      "Cell \u001b[0;32mIn[17], line 15\u001b[0m\n\u001b[1;32m     12\u001b[0m train_loss \u001b[38;5;241m=\u001b[39m [entry[\u001b[38;5;124m'\u001b[39m\u001b[38;5;124mloss\u001b[39m\u001b[38;5;124m'\u001b[39m] \u001b[38;5;28;01mfor\u001b[39;00m entry \u001b[38;5;129;01min\u001b[39;00m train_loss \u001b[38;5;28;01mif\u001b[39;00m \u001b[38;5;124m'\u001b[39m\u001b[38;5;124mloss\u001b[39m\u001b[38;5;124m'\u001b[39m \u001b[38;5;129;01min\u001b[39;00m entry]\n\u001b[1;32m     14\u001b[0m \u001b[38;5;66;03m# Plot the training and evaluation loss curves\u001b[39;00m\n\u001b[0;32m---> 15\u001b[0m \u001b[43mplt\u001b[49m\u001b[38;5;241m.\u001b[39mfigure(figsize\u001b[38;5;241m=\u001b[39m(\u001b[38;5;241m10\u001b[39m, \u001b[38;5;241m5\u001b[39m))\n\u001b[1;32m     16\u001b[0m plt\u001b[38;5;241m.\u001b[39mplot(train_loss, label\u001b[38;5;241m=\u001b[39m\u001b[38;5;124m'\u001b[39m\u001b[38;5;124mTraining Loss\u001b[39m\u001b[38;5;124m'\u001b[39m)\n\u001b[1;32m     17\u001b[0m plt\u001b[38;5;241m.\u001b[39mplot(eval_loss, label\u001b[38;5;241m=\u001b[39m\u001b[38;5;124m'\u001b[39m\u001b[38;5;124mEvaluation Loss\u001b[39m\u001b[38;5;124m'\u001b[39m)\n",
      "\u001b[0;31mNameError\u001b[0m: name 'plt' is not defined"
     ]
    }
   ],
   "source": [
    "# Evaluate Model\n",
    "trainer.train()\n",
    "\n",
    "# Save and Deploy Model\n",
    "model.save_pretrained('./fine_tuned_gpt2')\n",
    "tokenizer.save_pretrained('./fine_tuned_gpt2')"
   ]
  },
  {
   "cell_type": "code",
   "execution_count": 19,
   "metadata": {},
   "outputs": [
    {
     "data": {
      "application/vnd.jupyter.widget-view+json": {
       "model_id": "5e50817492d848d6a9de95b8670e8771",
       "version_major": 2,
       "version_minor": 0
      },
      "text/plain": [
       "  0%|          | 0/1072 [00:00<?, ?it/s]"
      ]
     },
     "metadata": {},
     "output_type": "display_data"
    },
    {
     "data": {
      "image/png": "[encoded data removed]",
      "text/plain": [
       "<Figure size 1000x500 with 1 Axes>"
      ]
     },
     "metadata": {},
     "output_type": "display_data"
    }
   ],
   "source": [
    "trainer.evaluate()\n",
    "# Extract training and evaluation metrics\n",
    "train_loss = trainer.state.log_history\n",
    "eval_loss = [entry['eval_loss'] for entry in train_loss if 'eval_loss' in entry]\n",
    "train_loss = [entry['loss'] for entry in train_loss if 'loss' in entry]\n",
    "\n",
    "# Plot the training and evaluation loss curves\n",
    "plt.figure(figsize=(10, 5))\n",
    "plt.plot(train_loss, label='Training Loss')\n",
    "plt.plot(eval_loss, label='Evaluation Loss')\n",
    "plt.xlabel('Epoch')\n",
    "plt.ylabel('Loss')\n",
    "plt.title('Training and Evaluation Loss Curves')\n",
    "plt.legend()\n",
    "plt.show()"
   ]
  },
  {
   "cell_type": "markdown",
   "metadata": {},
   "source": [
    "### Generate Responses"
   ]
  },
  {
   "cell_type": "code",
   "execution_count": 28,
   "metadata": {},
   "outputs": [
    {
     "name": "stderr",
     "output_type": "stream",
     "text": [
      "/Users/hubert_1/.local/share/virtualenvs/mental_health_chatbot-vOkgE1F_/lib/python3.11/site-packages/transformers/tokenization_utils_base.py:1601: FutureWarning: `clean_up_tokenization_spaces` was not set. It will be set to `True` by default. This behavior will be depracted in transformers v4.45, and will be then set to `False` by default. For more details check this issue: https://github.com/huggingface/transformers/issues/31884\n",
      "  warnings.warn(\n"
     ]
    },
    {
     "name": "stdout",
     "output_type": "stream",
     "text": [
      "Running on local URL:  http://127.0.0.1:7864\n",
      "\n",
      "To create a public link, set `share=True` in `launch()`.\n"
     ]
    },
    {
     "data": {
      "text/html": [
       "<div><iframe src=\"http://127.0.0.1:7864/\" width=\"100%\" height=\"500\" allow=\"autoplay; camera; microphone; clipboard-read; clipboard-write;\" frameborder=\"0\" allowfullscreen></iframe></div>"
      ],
      "text/plain": [
       "<IPython.core.display.HTML object>"
      ]
     },
     "metadata": {},
     "output_type": "display_data"
    },
    {
     "data": {
      "text/plain": []
     },
     "execution_count": 28,
     "metadata": {},
     "output_type": "execute_result"
    },
    {
     "name": "stderr",
     "output_type": "stream",
     "text": [
      "/Users/hubert_1/.local/share/virtualenvs/mental_health_chatbot-vOkgE1F_/lib/python3.11/site-packages/transformers/generation/configuration_utils.py:567: UserWarning: `do_sample` is set to `False`. However, `temperature` is set to `0.7` -- this flag is only used in sample-based generation modes. You should set `do_sample=True` or unset `temperature`.\n",
      "  warnings.warn(\n",
      "/Users/hubert_1/.local/share/virtualenvs/mental_health_chatbot-vOkgE1F_/lib/python3.11/site-packages/transformers/generation/configuration_utils.py:572: UserWarning: `do_sample` is set to `False`. However, `top_p` is set to `0.9` -- this flag is only used in sample-based generation modes. You should set `do_sample=True` or unset `top_p`.\n",
      "  warnings.warn(\n"
     ]
    }
   ],
   "source": [
    "\n",
    "# Load the base GPT-2 model and tokenizer\n",
    "base_model_name = 'gpt2'\n",
    "base_tokenizer = GPT2Tokenizer.from_pretrained(base_model_name)\n",
    "base_model = GPT2LMHeadModel.from_pretrained(base_model_name)\n",
    "\n",
    "# Load the fine-tuned GPT-2 model and tokenizer\n",
    "fine_tuned_model_path = './fine_tuned_gpt2'\n",
    "fine_tuned_tokenizer = GPT2Tokenizer.from_pretrained(fine_tuned_model_path)\n",
    "fine_tuned_model = GPT2LMHeadModel.from_pretrained(fine_tuned_model_path)\n",
    "\n",
    "def generate_response(model_name, user_query):\n",
    "    if model_name == 'Base GPT-2':\n",
    "        tokenizer = base_tokenizer\n",
    "        model = base_model\n",
    "    else:\n",
    "        tokenizer = fine_tuned_tokenizer\n",
    "        model = fine_tuned_model\n",
    "\n",
    "    # Define the prompt to set the context\n",
    "    prompt = f\"User: {user_query}\\nAssistant:\"\n",
    "\n",
    "    # Tokenize the input\n",
    "    inputs = tokenizer.encode(prompt, return_tensors='pt')\n",
    "    attention_mask = torch.ones(inputs.shape, dtype=torch.long)  # Create attention mask\n",
    "\n",
    "    # Generate response\n",
    "    outputs = model.generate(\n",
    "        inputs,\n",
    "        attention_mask=attention_mask,\n",
    "        max_length=150,  # Set a reasonable max length\n",
    "        num_return_sequences=1,\n",
    "        no_repeat_ngram_size=2,\n",
    "        early_stopping=True,\n",
    "        pad_token_id=tokenizer.eos_token_id,\n",
    "        num_beams=5,  # Use beam search with 5 beams\n",
    "        temperature=0.7,  # Control randomness\n",
    "        top_p=0.9  # Control diversity\n",
    "    )\n",
    "    # Decode the generated response\n",
    "    response = tokenizer.decode(outputs[0], skip_special_tokens=True)\n",
    "    \n",
    "    # Optionally, truncate the response at the first stop token (e.g., newline)\n",
    "    stop_token = '\\n'\n",
    "    if stop_token in response:\n",
    "        response = response.split(stop_token)[0]\n",
    "    \n",
    "    return response\n",
    "\n",
    "# Create Gradio interface\n",
    "iface = gr.Interface(\n",
    "    fn=generate_response,\n",
    "    inputs=[\n",
    "        gr.components.Dropdown(choices=['Base GPT-2', 'Fine-Tuned GPT-2'], label='Model'),\n",
    "        gr.components.Textbox(lines=5, placeholder='Enter your query here...', label='User Query')\n",
    "    ],\n",
    "    outputs='text',\n",
    "    title='Chat with GPT-2',\n",
    "    description='Select a model and enter your query to chat with GPT-2 or the fine-tuned GPT-2 model.'\n",
    ")\n",
    "\n",
    "# Launch the interface\n",
    "iface.launch()"
   ]
  },
  {
   "cell_type": "markdown",
   "metadata": {},
   "source": [
    "## Prompt Engineering"
   ]
  },
  {
   "cell_type": "markdown",
   "metadata": {},
   "source": [
    "### Imports"
   ]
  },
  {
   "cell_type": "code",
   "execution_count": null,
   "metadata": {},
   "outputs": [],
   "source": []
  }
 ],
 "metadata": {
  "kernelspec": {
   "display_name": "Python 3",
   "language": "python",
   "name": "python3"
  },
  "language_info": {
   "codemirror_mode": {
    "name": "ipython",
    "version": 3
   },
   "file_extension": ".py",
   "mimetype": "text/x-python",
   "name": "python",
   "nbconvert_exporter": "python",
   "pygments_lexer": "ipython3",
   "version": "3.11.9"
  }
 },
 "nbformat": 4,
 "nbformat_minor": 2
}
