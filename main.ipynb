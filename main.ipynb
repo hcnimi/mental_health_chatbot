{
 "cells": [
  {
   "cell_type": "markdown",
   "metadata": {},
   "source": [
    "# Mental Health Chatbot"
   ]
  },
  {
   "cell_type": "markdown",
   "metadata": {},
   "source": [
    "## Goal\n"
   ]
  },
  {
   "cell_type": "markdown",
   "metadata": {},
   "source": [
    "## Imports"
   ]
  },
  {
   "cell_type": "code",
   "execution_count": 36,
   "metadata": {},
   "outputs": [],
   "source": [
    "import numpy as np\n",
    "import pandas as pd\n",
    "import matplotlib.pyplot as plt\n",
    "import matplotlib.dates as mdates\n",
    "import matplotlib.ticker as ticker\n",
    "import datetime\n",
    "import sys\n",
    "import os\n",
    "import wandb\n",
    "import gradio as gr\n",
    "import psycopg2\n",
    "from dotenv import load_dotenv\n",
    "from datasets import load_dataset, concatenate_datasets\n",
    "load_dotenv()\n",
    "NEON_PG_CONNECTION_URL = os.environ['NEON_PG_CONNECTION_URL']"
   ]
  },
  {
   "cell_type": "markdown",
   "metadata": {},
   "source": [
    "## DB, Wandb Connection & Setup"
   ]
  },
  {
   "cell_type": "code",
   "execution_count": 37,
   "metadata": {},
   "outputs": [
    {
     "name": "stdout",
     "output_type": "stream",
     "text": [
      "Connected to Neon Postgres!\n"
     ]
    },
    {
     "data": {
      "text/html": [
       "Finishing last run (ID:xg80n18q) before initializing another..."
      ],
      "text/plain": [
       "<IPython.core.display.HTML object>"
      ]
     },
     "metadata": {},
     "output_type": "display_data"
    },
    {
     "data": {
      "text/html": [
       " View run <strong style=\"color:#cdcd00\">sunny-fog-1</strong> at: <a href='https://wandb.ai/hcnimi-deep-atlas/mental_health_chatbot/runs/xg80n18q' target=\"_blank\">https://wandb.ai/hcnimi-deep-atlas/mental_health_chatbot/runs/xg80n18q</a><br/> View project at: <a href='https://wandb.ai/hcnimi-deep-atlas/mental_health_chatbot' target=\"_blank\">https://wandb.ai/hcnimi-deep-atlas/mental_health_chatbot</a><br/>Synced 5 W&B file(s), 0 media file(s), 0 artifact file(s) and 0 other file(s)"
      ],
      "text/plain": [
       "<IPython.core.display.HTML object>"
      ]
     },
     "metadata": {},
     "output_type": "display_data"
    },
    {
     "data": {
      "text/html": [
       "Find logs at: <code>./wandb/run-20240807_143123-xg80n18q/logs</code>"
      ],
      "text/plain": [
       "<IPython.core.display.HTML object>"
      ]
     },
     "metadata": {},
     "output_type": "display_data"
    },
    {
     "data": {
      "text/html": [
       "The new W&B backend becomes opt-out in version 0.18.0; try it out with `wandb.require(\"core\")`! See https://wandb.me/wandb-core for more information."
      ],
      "text/plain": [
       "<IPython.core.display.HTML object>"
      ]
     },
     "metadata": {},
     "output_type": "display_data"
    },
    {
     "data": {
      "text/html": [
       "Successfully finished last run (ID:xg80n18q). Initializing new run:<br/>"
      ],
      "text/plain": [
       "<IPython.core.display.HTML object>"
      ]
     },
     "metadata": {},
     "output_type": "display_data"
    },
    {
     "data": {
      "text/html": [
       "Tracking run with wandb version 0.17.5"
      ],
      "text/plain": [
       "<IPython.core.display.HTML object>"
      ]
     },
     "metadata": {},
     "output_type": "display_data"
    },
    {
     "data": {
      "text/html": [
       "Run data is saved locally in <code>/Users/hubert_1/dev/DeepAtlas/gpp/mental_health_chatbot/wandb/run-20240807_143458-8d1pfxf7</code>"
      ],
      "text/plain": [
       "<IPython.core.display.HTML object>"
      ]
     },
     "metadata": {},
     "output_type": "display_data"
    },
    {
     "data": {
      "text/html": [
       "Syncing run <strong><a href='https://wandb.ai/hcnimi-deep-atlas/mental_health_chatbot/runs/8d1pfxf7' target=\"_blank\">pretty-glitter-2</a></strong> to <a href='https://wandb.ai/hcnimi-deep-atlas/mental_health_chatbot' target=\"_blank\">Weights & Biases</a> (<a href='https://wandb.me/run' target=\"_blank\">docs</a>)<br/>"
      ],
      "text/plain": [
       "<IPython.core.display.HTML object>"
      ]
     },
     "metadata": {},
     "output_type": "display_data"
    },
    {
     "data": {
      "text/html": [
       " View project at <a href='https://wandb.ai/hcnimi-deep-atlas/mental_health_chatbot' target=\"_blank\">https://wandb.ai/hcnimi-deep-atlas/mental_health_chatbot</a>"
      ],
      "text/plain": [
       "<IPython.core.display.HTML object>"
      ]
     },
     "metadata": {},
     "output_type": "display_data"
    },
    {
     "data": {
      "text/html": [
       " View run at <a href='https://wandb.ai/hcnimi-deep-atlas/mental_health_chatbot/runs/8d1pfxf7' target=\"_blank\">https://wandb.ai/hcnimi-deep-atlas/mental_health_chatbot/runs/8d1pfxf7</a>"
      ],
      "text/plain": [
       "<IPython.core.display.HTML object>"
      ]
     },
     "metadata": {},
     "output_type": "display_data"
    },
    {
     "data": {
      "text/html": [
       "<button onClick=\"this.nextSibling.style.display='block';this.style.display='none';\">Display W&B run</button><iframe src='https://wandb.ai/hcnimi-deep-atlas/mental_health_chatbot/runs/8d1pfxf7?jupyter=true' style='border:none;width:100%;height:420px;display:none;'></iframe>"
      ],
      "text/plain": [
       "<wandb.sdk.wandb_run.Run at 0x1432c34d0>"
      ]
     },
     "execution_count": 37,
     "metadata": {},
     "output_type": "execute_result"
    }
   ],
   "source": [
    "try:\n",
    "    connection = psycopg2.connect(NEON_PG_CONNECTION_URL)\n",
    "    connection.autocommit = True\n",
    "    print(\"Connected to Neon Postgres!\")\n",
    "except Exception as e:\n",
    "    print(\"Cannot connect to Neon Postgres:\", e)\n",
    "\n",
    "cursor = connection.cursor()\n",
    "\n",
    "wandb.init(project=\"mental_health_chatbot\")"
   ]
  },
  {
   "cell_type": "markdown",
   "metadata": {},
   "source": [
    "## Data Pre-Processing"
   ]
  },
  {
   "cell_type": "code",
   "execution_count": 46,
   "metadata": {},
   "outputs": [
    {
     "name": "stdout",
     "output_type": "stream",
     "text": [
      "                                            Question  \\\n",
      "0  I'm going through some things with my feelings...   \n",
      "1  I'm going through some things with my feelings...   \n",
      "2  I'm going through some things with my feelings...   \n",
      "3  I'm going through some things with my feelings...   \n",
      "4  I'm going through some things with my feelings...   \n",
      "\n",
      "                                              Answer  \n",
      "0  If everyone thinks you're worthless, then mayb...  \n",
      "1  Hello, and thank you for your question and see...  \n",
      "2  First thing I'd suggest is getting the sleep y...  \n",
      "3  Therapy is essential for those that are feelin...  \n",
      "4  I first want to let you know that you are not ...  \n",
      "Cannot insert data into mental_health_chatbot table: terminating connection due to administrator command\n",
      "SSL connection has been closed unexpectedly\n",
      "\n"
     ]
    }
   ],
   "source": [
    "# Load the dataframes\n",
    "df1 = pd.read_json(\"hf://datasets/Amod/mental_health_counseling_conversations/combined_dataset.json\", lines=True)\n",
    "df2 = pd.read_parquet(\"hf://datasets/mpingale/mental-health-chat-dataset/data/train-00000-of-00001-991edb316b3098d3.parquet\")\n",
    "\n",
    "# Change column name \"Context\" to \"Question\" and \"Response\" to \"Answer\"\n",
    "df1 = df1.rename(columns={\"Context\": \"Question\", \"Response\": \"Answer\"})\n",
    "# Remove the \"questionID\" column from df2\n",
    "df2 = df2.rename(columns={\"questionText\": \"Question\", \"answerText\": \"Answer\"})\n",
    "df2 = df2.drop(columns=[\"questionID\", \"questionTitle\", \"questionLink\", \"therapistInfo\", \"topic\", \"therapistURL\", \"upvotes\", \"views\", \"text\"])\n",
    "\n",
    "# combine the two dataframes and add an index column\n",
    "df = pd.concat([df1, df2], ignore_index=True)\n",
    "\n",
    "# Print the first 5 rows of the dataframe\n",
    "print(df.head())\n",
    "\n",
    "# Use try-except blocks. First, the table if it already exists. Create a new table\n",
    "try:\n",
    "    cursor.execute(\n",
    "        \"\"\"\n",
    "        CREATE TABLE mental_health_qa (\n",
    "            id BIGSERIAL PRIMARY KEY,\n",
    "            question TEXT,\n",
    "            answer TEXT,\n",
    "            vector VECTOR(384)\n",
    "        );\n",
    "    \"\"\"\n",
    "    )\n",
    "    print(\"Created table emails.\")\n",
    "except Exception as e:\n",
    "    print(\"Cannot create table emails:\", e)\n"
   ]
  },
  {
   "cell_type": "code",
   "execution_count": null,
   "metadata": {},
   "outputs": [],
   "source": []
  }
 ],
 "metadata": {
  "kernelspec": {
   "display_name": "Python 3",
   "language": "python",
   "name": "python3"
  },
  "language_info": {
   "codemirror_mode": {
    "name": "ipython",
    "version": 3
   },
   "file_extension": ".py",
   "mimetype": "text/x-python",
   "name": "python",
   "nbconvert_exporter": "python",
   "pygments_lexer": "ipython3",
   "version": "3.11.9"
  }
 },
 "nbformat": 4,
 "nbformat_minor": 2
}
