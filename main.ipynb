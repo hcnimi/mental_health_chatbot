{
 "cells": [
  {
   "cell_type": "markdown",
   "metadata": {},
   "source": [
    "# Mental Health Chatbot"
   ]
  },
  {
   "cell_type": "markdown",
   "metadata": {},
   "source": [
    "## Goal\n"
   ]
  },
  {
   "cell_type": "markdown",
   "metadata": {},
   "source": [
    "## Imports"
   ]
  },
  {
   "cell_type": "code",
   "execution_count": 36,
   "metadata": {},
   "outputs": [],
   "source": [
    "import numpy as np\n",
    "import pandas as pd\n",
    "import matplotlib.pyplot as plt\n",
    "import matplotlib.dates as mdates\n",
    "import matplotlib.ticker as ticker\n",
    "import datetime\n",
    "import sys\n",
    "import os\n",
    "import wandb\n",
    "import gradio as gr\n",
    "import psycopg2\n",
    "from dotenv import load_dotenv\n",
    "from datasets import load_dataset, concatenate_datasets\n",
    "from sentence_transformers import SentenceTransformer\n",
    "load_dotenv()\n",
    "NEON_PG_CONNECTION_URL = os.environ['NEON_PG_CONNECTION_URL']"
   ]
  },
  {
   "cell_type": "markdown",
   "metadata": {},
   "source": [
    "## DB, Wandb Connection & Setup"
   ]
  },
  {
   "cell_type": "code",
   "execution_count": 41,
   "metadata": {},
   "outputs": [
    {
     "name": "stdout",
     "output_type": "stream",
     "text": [
      "Connected to Neon Postgres!\n"
     ]
    }
   ],
   "source": [
    "try:\n",
    "    connection = psycopg2.connect(NEON_PG_CONNECTION_URL)\n",
    "    connection.autocommit = True\n",
    "    print(\"Connected to Neon Postgres!\")\n",
    "except Exception as e:\n",
    "    print(\"Cannot connect to Neon Postgres:\", e)\n",
    "\n",
    "cursor = connection.cursor()\n",
    "\n",
    "# wandb.init(project=\"mental_health_chatbot\")"
   ]
  },
  {
   "cell_type": "markdown",
   "metadata": {},
   "source": [
    "## Data Pre-Processing"
   ]
  },
  {
   "cell_type": "code",
   "execution_count": 42,
   "metadata": {},
   "outputs": [
    {
     "name": "stdout",
     "output_type": "stream",
     "text": [
      "                                               Question  \\\n",
      "0     I'm going through some things with my feelings...   \n",
      "1     I'm going through some things with my feelings...   \n",
      "2     I'm going through some things with my feelings...   \n",
      "3     I'm going through some things with my feelings...   \n",
      "4     I'm going through some things with my feelings...   \n",
      "...                                                 ...   \n",
      "2770  What are some difficulties that a counselor ca...   \n",
      "2771  What are some difficulties that a counselor ca...   \n",
      "2772  What are some difficulties that a counselor ca...   \n",
      "2773  What are some difficulties that a counselor ca...   \n",
      "2774  What are some difficulties that a counselor ca...   \n",
      "\n",
      "                                                 Answer  \n",
      "0     If everyone thinks you're worthless, then mayb...  \n",
      "1     Hello, and thank you for your question and see...  \n",
      "2     First thing I'd suggest is getting the sleep y...  \n",
      "3     Therapy is essential for those that are feelin...  \n",
      "4     I first want to let you know that you are not ...  \n",
      "...                                                 ...  \n",
      "2770  Although many clients have the capacity to be ...  \n",
      "2771  I usually don't label a client as \"difficult\" ...  \n",
      "2772  Dang right!  :)Heh heh, and correct me if I'm ...  \n",
      "2773  Yes, just like some relationships outside of o...  \n",
      "2774  Each counselor will have their own list of \"di...  \n",
      "\n",
      "[6287 rows x 2 columns]\n"
     ]
    },
    {
     "name": "stderr",
     "output_type": "stream",
     "text": [
      "/Users/hubert_1/.pyenv/versions/3.11.9/lib/python3.11/site-packages/transformers/tokenization_utils_base.py:1601: FutureWarning: `clean_up_tokenization_spaces` was not set. It will be set to `True` by default. This behavior will be depracted in transformers v4.45, and will be then set to `False` by default. For more details check this issue: https://github.com/huggingface/transformers/issues/31884\n",
      "  warnings.warn(\n"
     ]
    },
    {
     "name": "stdout",
     "output_type": "stream",
     "text": [
      "questions: [\"I'm going through some things with my feelings and myself. I barely sleep and I do nothing but think about how I'm worthless and how I shouldn't be here.\\n   I've never tried or contemplated suicide. I've always wanted to fix my issues, but I never get around to it.\\n   How can I change my feeling of being worthless to everyone?\", \"I'm going through some things with my feelings and myself. I barely sleep and I do nothing but think about how I'm worthless and how I shouldn't be here.\\n   I've never tried or contemplated suicide. I've always wanted to fix my issues, but I never get around to it.\\n   How can I change my feeling of being worthless to everyone?\", \"I'm going through some things with my feelings and myself. I barely sleep and I do nothing but think about how I'm worthless and how I shouldn't be here.\\n   I've never tried or contemplated suicide. I've always wanted to fix my issues, but I never get around to it.\\n   How can I change my feeling of being worthless to everyone?\", \"I'm going through some things with my feelings and myself. I barely sleep and I do nothing but think about how I'm worthless and how I shouldn't be here.\\n   I've never tried or contemplated suicide. I've always wanted to fix my issues, but I never get around to it.\\n   How can I change my feeling of being worthless to everyone?\", \"I'm going through some things with my feelings and myself. I barely sleep and I do nothing but think about how I'm worthless and how I shouldn't be here.\\n   I've never tried or contemplated suicide. I've always wanted to fix my issues, but I never get around to it.\\n   How can I change my feeling of being worthless to everyone?\"]\n",
      "answers: [\"If everyone thinks you're worthless, then maybe you need to find new people to hang out with.Seriously, the social context in which a person lives is a big influence in self-esteem.Otherwise, you can go round and round trying to understand why you're not worthless, then go back to the same crowd and be knocked down again.There are many inspirational messages you can find in social media. \\xa0Maybe read some of the ones which state that no person is worthless, and that everyone has a good purpose to their life.Also, since our culture is so saturated with the belief that if someone doesn't feel good about themselves that this is somehow terrible.Bad feelings are part of living. \\xa0They are the motivation to remove ourselves from situations and relationships which do us more harm than good.Bad feelings do feel terrible. \\xa0 Your feeling of worthlessness may be good in the sense of motivating you to find out that you are much better than your feelings today.\", 'Hello, and thank you for your question and seeking advice on this. Feelings of worthlessness is unfortunately common. In fact, most people, if not all, have felt this to some degree at some point in their life. You are not alone.\\xa0Changing our feelings is like changing our thoughts - it\\'s hard to do. Our minds are so amazing that the minute you change your thought another one can be right there to take it\\'s place. Without your permission, another thought can just pop in there. The new thought may feel worse than the last one! My guess is that you have tried several things to improve this on your own even before reaching out on here. People often try thinking positive thoughts, debating with their thoughts, or simply telling themselves that they need to \"snap out of it\" - which is also a thought that carries some self-criticism.\\xa0Some people try a different approach, and there are counselors out there that can help you with this. The idea is that instead of trying to change the thoughts, you change how you respond to them. You learn skills that allow you to manage difficult thoughts and feelings differently so they don\\'t have the same impact on you that they do right now. For some people, they actually DO begin to experience less hurtful thoughts once they learn how to manage the ones they have differently. Acceptance and Commitment Therapy may be a good choice for you.\\xa0There is information online and even self-help books that you can use to teach you the skills that I mentioned. Because they are skills, they require practice, but many people have found great relief and an enriched life by learning them.\\xa0As for suicidal thoughts, I am very glad to read that this has not happened to you. Still, you should watch out for this because it can be a sign of a worsening depression. If you begin to think about this, it is important to reach out to a support system right away. The National Suicide Prevention Lifeline is 1-800-273-8255. The text line is #741741.\\xa0I hope some other colleagues will provide you more suggestions.\\xa0Be well...Robin Landwehr, DBH, LPCC', \"First thing I'd suggest is getting the sleep you need or it will impact how you think and feel. I'd look at finding what is going well in your life and what you can be grateful for. I believe everyone has talents and wants to find their purpose in life. I think you can figure it out with some help.\", 'Therapy is essential for those that are feeling depressed and worthless. When I work with those that are experiencing concerns related to feeling of depression and issues with self esteem. I generally work with my client to help build coping skills to reduce level of depression and to assist with strengthening \\xa0self esteem, by guiding my client with CBT practices. CBT helps with gaining a better awareness of how your thought process influences your\\xa0belief system, and how your beliefs impact your actions and the outcome of your behaviors. \\xa0This process isn’t easy but it helps teach an individual that we don’t always have control over what happens in our lives but we can control how we interpret, feel, and behave. CBT is good for individuals dealing with depression, anxiety, toxic relationships, stress, self esteem, codependency, etc.', 'I first want to let you know that you are not alone in your feelings and there is always someone there to help. You can always change your feelings and change your way of thinking by being open to trying to change. You can always make yourself available to learning new things or volunteering so that you can make a purpose for yourself.']\n",
      "question_vectors: [[ 0.07201862 -0.01708581 -0.01348483 ...  0.00931943 -0.05317939\n",
      "  -0.00170034]\n",
      " [ 0.07201862 -0.01708581 -0.01348483 ...  0.00931943 -0.05317939\n",
      "  -0.00170034]\n",
      " [ 0.07201862 -0.01708581 -0.01348483 ...  0.00931943 -0.05317939\n",
      "  -0.00170034]\n",
      " [ 0.07201862 -0.01708581 -0.01348483 ...  0.00931943 -0.05317939\n",
      "  -0.00170034]\n",
      " [ 0.07201862 -0.01708581 -0.01348483 ...  0.00931943 -0.05317939\n",
      "  -0.00170034]]\n",
      "Dropped table mental_health_qa.\n",
      "Created table mental_heatlh_qa.\n"
     ]
    }
   ],
   "source": [
    "dataset1 = load_dataset(\"Amod/mental_health_counseling_conversations\")\n",
    "dataset2 = load_dataset(\"mpingale/mental-health-chat-dataset\")\n",
    "\n",
    "# Combine datasets into a single DataFrame\n",
    "df1 = pd.DataFrame(dataset1['train'])\n",
    "df2 = pd.DataFrame(dataset2['train'])\n",
    "# print(df1.head())\n",
    "# print(df2.head())\n",
    "df1 = df1.rename(columns={\"Context\": \"Question\", \"Response\": \"Answer\"})\n",
    "df2 = df2.rename(columns={\"questionText\": \"Question\", \"answerText\": \"Answer\"})\n",
    "df2 = df2.drop(columns=[\"questionID\", \"questionTitle\", \"questionLink\", \"topic\", \"therapistInfo\", \"therapistURL\", \"upvotes\", \"views\", \"text\"])\n",
    "df = pd.concat([df1, df2])\n",
    "print(df)\n",
    "\n",
    "# Drop duplicates & NAs\n",
    "df = df.drop_duplicates(subset=[\"Question\", \"Answer\"])\n",
    "df = df.dropna(subset=[\"Question\", \"Answer\"])\n",
    "\n",
    "# Load Sentence Transformer model\n",
    "model = SentenceTransformer(\"all-MiniLM-L6-v2\")\n",
    "# Encode questions and answers\n",
    "questions = df[\"Question\"].tolist()\n",
    "answers = df[\"Answer\"].tolist()\n",
    "print(f\"questions: {questions[:5]}\")\n",
    "print(f\"answers: {answers[:5]}\")\n",
    "question_vectors = model.encode(questions)\n",
    "answer_vectors = model.encode(answers)\n",
    "print(f\"question_vectors: {question_vectors[:5]}\")"
   ]
  },
  {
   "cell_type": "markdown",
   "metadata": {},
   "source": [
    "## Insert Dataset to NEON"
   ]
  },
  {
   "cell_type": "code",
   "execution_count": 43,
   "metadata": {},
   "outputs": [
    {
     "name": "stdout",
     "output_type": "stream",
     "text": [
      "Dropped table mental_health_qa.\n",
      "Created table mental_heatlh_qa.\n"
     ]
    }
   ],
   "source": [
    "try:\n",
    "    cursor.execute(\"\"\"DROP TABLE IF EXISTS mental_health_qa;\"\"\")\n",
    "    print(\"Dropped table mental_health_qa.\")\n",
    "except Exception as e:\n",
    "    print(\"Cannot drop table mental_health_qa:\", e)\n",
    "\n",
    "try:\n",
    "    cursor.execute(\n",
    "        \"\"\"\n",
    "        CREATE TABLE mental_health_qa (\n",
    "            id BIGSERIAL PRIMARY KEY,\n",
    "            question TEXT,\n",
    "            answer TEXT,\n",
    "            question_vector VECTOR(384),\n",
    "            answer_vector VECTOR(384)\n",
    "        );\n",
    "    \"\"\"\n",
    "    )\n",
    "    print(\"Created table mental_heatlh_qa.\")\n",
    "except Exception as e:\n",
    "    print(\"Cannot create table mental_health_qa:\", e)\n"
   ]
  },
  {
   "cell_type": "code",
   "execution_count": 44,
   "metadata": {},
   "outputs": [
    {
     "name": "stdout",
     "output_type": "stream",
     "text": [
      "Inserted data into mental_health_qa.\n",
      "Connection closed.\n"
     ]
    }
   ],
   "source": [
    "for i in range(len(df)):\n",
    "    cursor.execute(\n",
    "        \"\"\"\n",
    "        INSERT INTO mental_health_qa (question, answer, question_vector, answer_vector)\n",
    "        VALUES (%s, %s, %s, %s);\n",
    "        \"\"\",\n",
    "        (\n",
    "            df[\"Question\"].iloc[i], \n",
    "            df[\"Answer\"].iloc[i], \n",
    "            question_vectors[i].tolist(),  # Convert numpy array to list\n",
    "            answer_vectors[i].tolist()     # Convert numpy array to list\n",
    "        )\n",
    "    )\n",
    "print(\"Inserted data into mental_health_qa.\")\n",
    "connection.close()\n",
    "print(\"Connection closed.\")"
   ]
  }
 ],
 "metadata": {
  "kernelspec": {
   "display_name": "Python 3",
   "language": "python",
   "name": "python3"
  },
  "language_info": {
   "codemirror_mode": {
    "name": "ipython",
    "version": 3
   },
   "file_extension": ".py",
   "mimetype": "text/x-python",
   "name": "python",
   "nbconvert_exporter": "python",
   "pygments_lexer": "ipython3",
   "version": "3.11.9"
  }
 },
 "nbformat": 4,
 "nbformat_minor": 2
}
